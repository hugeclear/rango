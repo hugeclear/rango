{
 "cells": [
  {
   "cell_type": "markdown",
   "metadata": {},
   "source": [
    "# merged.json Analysis\n",
    "This notebook computes the number of records and total character count for `data/raw/LaMP-2/merged.json`."
   ]
  },
  {
   "cell_type": "code",
   "execution_count": 4,
   "metadata": {},
   "outputs": [
    {
     "name": "stdout",
     "output_type": "stream",
     "text": [
      "Number of records: 692\n"
     ]
    }
   ],
   "source": [
    "import json\n",
    "from pathlib import Path\n",
    "# Load merged.json records\n",
    "path = Path('/home/nakata/master_thesis/rango/chameleon_prime_personalization/data/raw/LaMP-2/merge.json')\n",
    "records = json.loads(path.read_text(encoding='utf-8'))\n",
    "print(f'Number of records: {len(records)}')"
   ]
  },
  {
   "cell_type": "code",
   "execution_count": 5,
   "metadata": {},
   "outputs": [
    {
     "name": "stdout",
     "output_type": "stream",
     "text": [
      "Total characters in merged.json: 10485231\n"
     ]
    }
   ],
   "source": [
    "# Compute total characters in the JSON file\n",
    "text = path.read_text(encoding='utf-8')\n",
    "print(f'Total characters in merged.json: {len(text)}')"
   ]
  },
  {
   "cell_type": "code",
   "execution_count": null,
   "id": "e4a7e508",
   "metadata": {},
   "outputs": [],
   "source": []
  }
 ],
 "metadata": {
  "kernelspec": {
   "display_name": "Python 3",
   "language": "python",
   "name": "python3"
  },
  "language_info": {
   "codemirror_mode": {
    "name": "ipython",
    "version": 3
   },
   "file_extension": ".py",
   "mimetype": "text/x-python",
   "name": "python",
   "nbconvert_exporter": "python",
   "pygments_lexer": "ipython3",
   "version": "3.11.0"
  }
 },
 "nbformat": 4,
 "nbformat_minor": 5
}
