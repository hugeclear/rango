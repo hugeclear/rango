{
 "cells": [
  {
   "cell_type": "markdown",
   "metadata": {},
   "source": [
    "自己生成ペアのテキストを埋め込み化する"
   ]
  },
  {
   "cell_type": "markdown",
   "metadata": {},
   "source": [
    "personal_path.jsonとneutral_pairs.jsonを読み込み各レコードのpP,or pNをベクトル化する"
   ]
  },
  {
   "cell_type": "code",
   "execution_count": 3,
   "metadata": {},
   "outputs": [],
   "source": [
    "import json\n",
    "from openai import OpenAI\n",
    "import numpy as np\n",
    "\n",
    "client = OpenAI()\n",
    "\n",
    "with open(\"/home/nakata/master_thesis/rango/processed/LaMP-2/personal_pairs.json\", \"r\", encoding=\"utf-8\") as f:\n",
    "    pp = json.load(f)\n",
    "\n",
    "texts = [r[\"pP\"] for r in pp]\n",
    "resp = client.embeddings.create(model=\"text-embedding-ada-002\", input = texts)\n",
    "personal_embs = np.vstack([np.array(d.embedding) for d in resp.data])"
   ]
  },
  {
   "cell_type": "code",
   "execution_count": 7,
   "metadata": {},
   "outputs": [],
   "source": [
    "with open(\"/home/nakata/master_thesis/rango/processed/LaMP-2/neutral_pairs.json\", \"r\", encoding=\"utf-8\") as f:\n",
    "    pn = json.load(f)\n",
    "texts = [r[\"pN\"] for r in pn]\n",
    "resp = client.embeddings.create(model=\"text-embedding-ada-002\", input = texts)\n",
    "neutral_embs = np.vstack([np.array(d.embedding) for d in resp.data])"
   ]
  },
  {
   "cell_type": "code",
   "execution_count": 9,
   "metadata": {},
   "outputs": [],
   "source": [
    "np.save(\"neutral_embeddings.npy\", neutral_embs)\n",
    "np.save(\"personal_embeddings.npy\", personal_embs)"
   ]
  },
  {
   "cell_type": "markdown",
   "metadata": {},
   "source": [
    "neutral_pairsとpersonal_pairs embneddingが終わったので、これで何ができるようになったか？\n",
    "→最終的なタグ付けがわかった・あるユーザの映画感想文を元にした。その感想文から読み取れるパーソナルな好みの情報と、一般的とみられるneutralな情報の文章OO_insights.jsonを元にしてtagを生成したOO_pairs.jsonをベクトル化した"
   ]
  },
  {
   "cell_type": "code",
   "execution_count": 11,
   "metadata": {},
   "outputs": [],
   "source": [
    "import numpy as np\n",
    "\n",
    "E_p = np.load(\"/home/nakata/master_thesis/rango/processed/LaMP-2/personal_embeddings.npy\")\n",
    "E_n = np.load(\"/home/nakata/master_thesis/rango/processed/LaMP-2/neutral_embeddings.npy\")\n",
    "\n",
    "E_p_centered = E_p - E_p.mean(axis=0, keepdims=True)\n",
    "E_n_centered = E_n - E_n.mean(axis=0, keepdims=True)\n",
    "# SVDを実行して、第一右特異ベクトルをtheta_p, theta_nとする\n",
    "# np.linalg.svdはU,Σ, Vhを返す。　Vhの0行目が第一右特異ベクトル\n",
    "_, _, Vh_p = np.linalg.svd(E_p_centered, full_matrices=False)\n",
    "theta_P = Vh_p[0]\n",
    "\n",
    "_, _, Vh_n = np.linalg.svd(E_p_centered,full_matrices=False)\n",
    "theta_N = Vh_n[0]\n"
   ]
  },
  {
   "cell_type": "code",
   "execution_count": 12,
   "metadata": {},
   "outputs": [],
   "source": [
    "# 正規化(任意)\n",
    "theta_P /= np.linalg.norm(theta_P)\n",
    "theta_N /= np.linalg.norm(theta_N)"
   ]
  },
  {
   "cell_type": "code",
   "execution_count": 13,
   "metadata": {},
   "outputs": [
    {
     "name": "stdout",
     "output_type": "stream",
     "text": [
      "personal direction Theta_P: [ 0.05109705  0.00028158 -0.03811706 ...  0.01031596  0.00448704\n",
      " -0.0027529 ]\n",
      "neutral direction Theta_N: [ 0.05109705  0.00028158 -0.03811706 ...  0.01031596  0.00448704\n",
      " -0.0027529 ]\n"
     ]
    }
   ],
   "source": [
    "print(\"personal direction Theta_P:\", theta_P)\n",
    "print(\"neutral direction Theta_N:\", theta_N)"
   ]
  },
  {
   "cell_type": "code",
   "execution_count": 14,
   "metadata": {},
   "outputs": [
    {
     "data": {
      "text/plain": [
       "1536"
      ]
     },
     "execution_count": 14,
     "metadata": {},
     "output_type": "execute_result"
    }
   ],
   "source": [
    "theta_P.size"
   ]
  },
  {
   "cell_type": "code",
   "execution_count": 15,
   "metadata": {},
   "outputs": [],
   "source": [
    "np.save(\"theta_p.npy\", theta_P)\n",
    "np.save(\"theta_n.npy\", theta_N)"
   ]
  },
  {
   "cell_type": "code",
   "execution_count": 16,
   "metadata": {},
   "outputs": [],
   "source": [
    "import json\n",
    "\n",
    "with open(\"theta_p.json\", \"w\", encoding=\"utf-8\") as f:\n",
    "    json.dump(theta_P.tolist(), f, ensure_ascii=False, indent=2)\n",
    "\n",
    "with open(\"theta_n.json\", \"w\", encoding=\"utf-8\") as f:\n",
    "    json.dump(theta_N.tolist(), f, ensure_ascii=False, indent=2)\n"
   ]
  },
  {
   "cell_type": "code",
   "execution_count": 7,
   "metadata": {},
   "outputs": [
    {
     "name": "stdout",
     "output_type": "stream",
     "text": [
      "新しいレビューの embedding shape: (1536,)\n"
     ]
    }
   ],
   "source": [
    "import json\n",
    "from openai import OpenAI\n",
    "import numpy as np\n",
    "\n",
    "client = OpenAI()\n",
    "new_review = \"この映画は深い心理描写とスリルのある展開が印象的だった\"\n",
    "resp = client.embeddings.create(\n",
    "    model = \"text-embedding-ada-002\",\n",
    "    input = \"new_review\"\n",
    ")\n",
    "\n",
    "new_embedding = np.array(resp.data[0].embedding)\n",
    "print(\"新しいレビューの embedding shape:\", new_embedding.shape)\n",
    "# → (1536,) (テキスト埋め込みの次元数)\n",
    "\n"
   ]
  },
  {
   "cell_type": "code",
   "execution_count": 2,
   "metadata": {},
   "outputs": [
    {
     "name": "stdout",
     "output_type": "stream",
     "text": [
      "Name: openai\n",
      "Version: 1.61.0\n",
      "Summary: The official Python library for the openai API\n",
      "Home-page: https://github.com/openai/openai-python\n",
      "Author: \n",
      "Author-email: OpenAI <support@openai.com>\n",
      "License-Expression: Apache-2.0\n",
      "Location: /home/nakata/anaconda3/lib/python3.11/site-packages\n",
      "Requires: anyio, distro, httpx, jiter, pydantic, sniffio, tqdm, typing-extensions\n",
      "Required-by: alpaca_eval, langchain-openai\n"
     ]
    }
   ],
   "source": [
    "!pip show openai"
   ]
  },
  {
   "cell_type": "code",
   "execution_count": 3,
   "metadata": {},
   "outputs": [
    {
     "name": "stdout",
     "output_type": "stream",
     "text": [
      "Requirement already satisfied: openai in /home/nakata/anaconda3/lib/python3.11/site-packages (1.61.0)\n",
      "Collecting openai\n",
      "  Downloading openai-1.93.0-py3-none-any.whl.metadata (29 kB)\n",
      "Requirement already satisfied: anyio<5,>=3.5.0 in /home/nakata/anaconda3/lib/python3.11/site-packages (from openai) (4.8.0)\n",
      "Requirement already satisfied: distro<2,>=1.7.0 in /home/nakata/anaconda3/lib/python3.11/site-packages (from openai) (1.9.0)\n",
      "Requirement already satisfied: httpx<1,>=0.23.0 in /home/nakata/anaconda3/lib/python3.11/site-packages (from openai) (0.28.1)\n",
      "Requirement already satisfied: jiter<1,>=0.4.0 in /home/nakata/anaconda3/lib/python3.11/site-packages (from openai) (0.8.2)\n",
      "Requirement already satisfied: pydantic<3,>=1.9.0 in /home/nakata/anaconda3/lib/python3.11/site-packages (from openai) (2.10.6)\n",
      "Requirement already satisfied: sniffio in /home/nakata/anaconda3/lib/python3.11/site-packages (from openai) (1.3.1)\n",
      "Requirement already satisfied: tqdm>4 in /home/nakata/anaconda3/lib/python3.11/site-packages (from openai) (4.67.1)\n",
      "Requirement already satisfied: typing-extensions<5,>=4.11 in /home/nakata/anaconda3/lib/python3.11/site-packages (from openai) (4.12.2)\n",
      "Requirement already satisfied: idna>=2.8 in /home/nakata/anaconda3/lib/python3.11/site-packages (from anyio<5,>=3.5.0->openai) (3.10)\n",
      "Requirement already satisfied: certifi in /home/nakata/anaconda3/lib/python3.11/site-packages (from httpx<1,>=0.23.0->openai) (2025.1.31)\n",
      "Requirement already satisfied: httpcore==1.* in /home/nakata/anaconda3/lib/python3.11/site-packages (from httpx<1,>=0.23.0->openai) (1.0.7)\n",
      "Requirement already satisfied: h11<0.15,>=0.13 in /home/nakata/anaconda3/lib/python3.11/site-packages (from httpcore==1.*->httpx<1,>=0.23.0->openai) (0.14.0)\n",
      "Requirement already satisfied: annotated-types>=0.6.0 in /home/nakata/anaconda3/lib/python3.11/site-packages (from pydantic<3,>=1.9.0->openai) (0.7.0)\n",
      "Requirement already satisfied: pydantic-core==2.27.2 in /home/nakata/anaconda3/lib/python3.11/site-packages (from pydantic<3,>=1.9.0->openai) (2.27.2)\n",
      "Downloading openai-1.93.0-py3-none-any.whl (755 kB)\n",
      "\u001b[2K   \u001b[90m━━━━━━━━━━━━━━━━━━━━━━━━━━━━━━━━━━━━━━━━\u001b[0m \u001b[32m755.0/755.0 kB\u001b[0m \u001b[31m10.8 MB/s\u001b[0m eta \u001b[36m0:00:00\u001b[0m\n",
      "\u001b[?25hInstalling collected packages: openai\n",
      "  Attempting uninstall: openai\n",
      "    Found existing installation: openai 1.61.0\n",
      "    Uninstalling openai-1.61.0:\n",
      "      Successfully uninstalled openai-1.61.0\n",
      "Successfully installed openai-1.93.0\n",
      "\n",
      "\u001b[1m[\u001b[0m\u001b[34;49mnotice\u001b[0m\u001b[1;39;49m]\u001b[0m\u001b[39;49m A new release of pip is available: \u001b[0m\u001b[31;49m25.0\u001b[0m\u001b[39;49m -> \u001b[0m\u001b[32;49m25.1.1\u001b[0m\n",
      "\u001b[1m[\u001b[0m\u001b[34;49mnotice\u001b[0m\u001b[1;39;49m]\u001b[0m\u001b[39;49m To update, run: \u001b[0m\u001b[32;49mpip install --upgrade pip\u001b[0m\n"
     ]
    }
   ],
   "source": [
    "!pip install --upgrade openai\n"
   ]
  },
  {
   "cell_type": "code",
   "execution_count": 4,
   "metadata": {},
   "outputs": [
    {
     "name": "stdout",
     "output_type": "stream",
     "text": [
      "Requirement already satisfied: pip in /home/nakata/anaconda3/lib/python3.11/site-packages (25.0)\n",
      "Collecting pip\n",
      "  Downloading pip-25.1.1-py3-none-any.whl.metadata (3.6 kB)\n",
      "Downloading pip-25.1.1-py3-none-any.whl (1.8 MB)\n",
      "\u001b[2K   \u001b[90m━━━━━━━━━━━━━━━━━━━━━━━━━━━━━━━━━━━━━━━━\u001b[0m \u001b[32m1.8/1.8 MB\u001b[0m \u001b[31m11.1 MB/s\u001b[0m eta \u001b[36m0:00:00\u001b[0m\n",
      "\u001b[?25hInstalling collected packages: pip\n",
      "  Attempting uninstall: pip\n",
      "    Found existing installation: pip 25.0\n",
      "    Uninstalling pip-25.0:\n",
      "      Successfully uninstalled pip-25.0\n",
      "Successfully installed pip-25.1.1\n",
      "Note: you may need to restart the kernel to use updated packages.\n"
     ]
    }
   ],
   "source": [
    "pip install --upgrade pip"
   ]
  }
 ],
 "metadata": {
  "kernelspec": {
   "display_name": "base",
   "language": "python",
   "name": "python3"
  },
  "language_info": {
   "codemirror_mode": {
    "name": "ipython",
    "version": 3
   },
   "file_extension": ".py",
   "mimetype": "text/x-python",
   "name": "python",
   "nbconvert_exporter": "python",
   "pygments_lexer": "ipython3",
   "version": "3.11.0"
  }
 },
 "nbformat": 4,
 "nbformat_minor": 2
}
